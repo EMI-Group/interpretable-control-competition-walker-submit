{
 "cells": [
  {
   "cell_type": "markdown",
   "id": "8ea4aca9-f553-4a9f-9a6d-a44e3277fa52",
   "metadata": {},
   "source": [
    "In this notebook, we will show our final policy."
   ]
  },
  {
   "attachments": {},
   "cell_type": "markdown",
   "id": "858662a8-256a-42a5-ac6e-aa814e1e2509",
   "metadata": {},
   "source": [
    "Our policy can be expressed by the following formula (with the weights of the strategy represented to two decimal places):\n",
    "\n",
    "\\begin{align}\n",
    "o_{0} &= - \\tanh{\\left(0.05 i_{14} - 3.38 \\right)}\\newline\n",
    "o_{1} &= \\tanh{\\left(0.69 i_{9} + 3.21 \\right)}\\newline\n",
    "o_{2} &= \\tanh{\\left(18.46 i_{2} + 5.74 \\right)}\\newline\n",
    "o_{3} &= - \\tanh{\\left(- 18.36 i_{0} + 2.49 i_{1} + 0.38 i_{10} + 10.16 i_{5} + 3.85 i_{7} + 2.91 i_{8} + 26.87 \\right)}\\newline\n",
    "o_{4} &= - \\tanh{\\left(98.39 i_{0} + 0.15 i_{14} - 122.89 \\right)}\\newline\n",
    "o_{5} &= \\tanh{\\left(16.54 i_{0} - 0.46 i_{10} + 0.38 i_{14} + 3.42 i_{5} + 3.37 i_{7} + 7.29 i_{9} - 10.3 \\right)}\\newline\n",
    "\\end{align}"
   ]
  },
  {
   "cell_type": "markdown",
   "id": "437ce72a-9742-4451-bec8-0c87459f16b8",
   "metadata": {},
   "source": [
    "Write our policy into python function with numpy package:"
   ]
  },
  {
   "cell_type": "code",
   "execution_count": 1,
   "id": "45c412f7-6fca-4033-ab52-4c9b4eff044e",
   "metadata": {},
   "outputs": [],
   "source": [
    "import numpy as np\n",
    "from numpy import tanh, clip\n",
    "np.random.seed(0)\n",
    "\n",
    "output_cnt = 6\n",
    "\n",
    "def policy(i):\n",
    "    o = np.zeros(output_cnt)\n",
    "    \n",
    "    o[0] = -tanh(0.046154*i[14] - 3.378302)\n",
    "    o[1] = tanh(0.691099*i[9] + 3.213468)\n",
    "    o[2] = tanh(18.460631*i[2] + 5.735261)\n",
    "    o[3] = -tanh(-18.364946*i[0] + 2.486137*i[1] + 0.379982*i[10] + 10.157374*i[5] + 3.845969*i[7] + 2.913171*i[8] + 26.870047)\n",
    "    o[4] = -tanh(98.38753*i[0] + 0.15219*i[14] - 122.89392)\n",
    "    o[5] = tanh(16.544113*i[0] - 0.46117*i[10] + 0.379904*i[14] + 3.416607*i[5] + 3.370985*i[7] + 7.287278*i[9] - 10.300297)\n",
    "    return o"
   ]
  },
  {
   "cell_type": "markdown",
   "id": "af012f37-355e-425f-b4af-b93e57f39fe4",
   "metadata": {},
   "source": [
    "Evaluate our policy once. \n",
    "\n",
    "Note that we are using `render_mode=\"rgb_array_list\"` in the environment, which will slow down the running speed of the code, as the environment will render the state at each step."
   ]
  },
  {
   "cell_type": "code",
   "execution_count": 2,
   "id": "45ed1773-d894-4c14-8333-ae6741af4121",
   "metadata": {},
   "outputs": [
    {
     "name": "stdout",
     "output_type": "stream",
     "text": [
      "total_reward:  3465.600985371167\n"
     ]
    }
   ],
   "source": [
    "import gymnasium as gym\n",
    "\n",
    "def evaluate_once(env, seed, policy, episode_length):\n",
    "    observation, info = env.reset(seed=seed)\n",
    "    total_reward = 0\n",
    "    for _ in range(episode_length):\n",
    "        action = policy(observation)\n",
    "        observation, reward, terminated, truncated, info = env.step(action)\n",
    "        total_reward += reward\n",
    "        if terminated or truncated:\n",
    "            break\n",
    "    return total_reward\n",
    "\n",
    "env = gym.make(\"Walker2d-v4\", render_mode=\"rgb_array_list\", height=400, width=400)\n",
    "reward = evaluate_once(env, seed=0, policy=policy, episode_length=1000)\n",
    "rgb_array_list = env.render()\n",
    "env.close()\n",
    "\n",
    "print(\"total_reward: \", reward)"
   ]
  },
  {
   "cell_type": "markdown",
   "id": "f39bdb71-84f2-4864-b039-a6bb666fcd06",
   "metadata": {},
   "source": [
    "Visualize the episide.\n",
    "\n",
    "Save the animation as a gif file and then play it!"
   ]
  },
  {
   "cell_type": "code",
   "execution_count": 3,
   "id": "de64d481-a9bd-498c-862f-678af2d72033",
   "metadata": {},
   "outputs": [],
   "source": [
    "import imageio\n",
    "import IPython.display as display\n",
    "\n",
    "# Display one out of every three frames to speed up the animation playback.\n",
    "imageio.mimsave('../results/animation.gif', rgb_array_list[::5] , fps=60, loop=0)  \n",
    "# display.Image(filename='animation.gif')"
   ]
  },
  {
   "cell_type": "markdown",
   "id": "a20334ea-2288-4a65-b429-e8cd5a46bb96",
   "metadata": {},
   "source": [
    "Evaluate our policy 150 * 8 = 1200 times.\n",
    "\n",
    "Note that `multiprocess_gym` is a gym environment that uses `multiprocessing` to run many environments in parallel across different CPU cores.\n",
    "\n",
    "`worker_num` refers to the number of workers, and it is recommended to set this to the number of your CPU cores.\n",
    "\n",
    "`env_num_per_worker` is the number of environments each worker runs.\n",
    "\n",
    "The total number of evaluations will be `worker_num * env_num_per_worker`.\n",
    "\n",
    "To use `multiprocess_gym`, you need\n",
    "```\n",
    "psutil==5.9.8 (to exactly put your processes in different cpu cores)\n"
   ]
  },
  {
   "cell_type": "code",
   "execution_count": 4,
   "id": "71024ccd-873e-4694-8a74-ce9bef3cb215",
   "metadata": {},
   "outputs": [
    {
     "name": "stdout",
     "output_type": "stream",
     "text": [
      "examining policy for 1200 times\n",
      "mean: 3309.392333984375, std: 400.9336242675781, max: 3484.778076171875, min: 1363.0408935546875\n"
     ]
    }
   ],
   "source": [
    "from multiprocess_gym import MultiProcessEnv\n",
    "env = MultiProcessEnv(worker_num=150, env_num_per_worker=8, env_name=\"Walker2d-v4\", policy_func=lambda args, obs: policy(obs), can_jit=False)\n",
    "rewards = env.examine([0])\n",
    "env.close()\n",
    "\n",
    "rewards = np.array(rewards)\n",
    "print(f\"mean: {rewards.mean()}, std: {rewards.std()}, max: {rewards.max()}, min: {rewards.min()}\")"
   ]
  },
  {
   "cell_type": "markdown",
   "id": "e60f1d59-bfa0-4b28-8f3b-de343c7bf63d",
   "metadata": {},
   "source": [
    "After 1200 evaluations, our policy obtain the average score of 3309."
   ]
  }
 ],
 "metadata": {
  "kernelspec": {
   "display_name": "Python 3 (ipykernel)",
   "language": "python",
   "name": "python3"
  },
  "language_info": {
   "codemirror_mode": {
    "name": "ipython",
    "version": 3
   },
   "file_extension": ".py",
   "mimetype": "text/x-python",
   "name": "python",
   "nbconvert_exporter": "python",
   "pygments_lexer": "ipython3",
   "version": "3.8.18"
  }
 },
 "nbformat": 4,
 "nbformat_minor": 5
}
